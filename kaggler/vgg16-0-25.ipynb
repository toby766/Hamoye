{
 "cells": [
  {
   "cell_type": "code",
   "execution_count": 1,
   "id": "3173d698",
   "metadata": {
    "execution": {
     "iopub.execute_input": "2022-03-30T23:59:20.197378Z",
     "iopub.status.busy": "2022-03-30T23:59:20.195737Z",
     "iopub.status.idle": "2022-03-30T23:59:36.472654Z",
     "shell.execute_reply": "2022-03-30T23:59:36.472127Z",
     "shell.execute_reply.started": "2022-03-30T23:03:48.642869Z"
    },
    "papermill": {
     "duration": 16.301633,
     "end_time": "2022-03-30T23:59:36.472820",
     "exception": false,
     "start_time": "2022-03-30T23:59:20.171187",
     "status": "completed"
    },
    "tags": []
   },
   "outputs": [
    {
     "name": "stdout",
     "output_type": "stream",
     "text": [
      "Cloning into 'Hamoye_capstone_project_smote'...\r\n",
      "remote: Enumerating objects: 10798, done.\u001b[K\r\n",
      "remote: Counting objects: 100% (30/30), done.\u001b[K\r\n",
      "remote: Compressing objects: 100% (24/24), done.\u001b[K\r\n",
      "remote: Total 10798 (delta 7), reused 14 (delta 3), pack-reused 10768\u001b[K\r\n",
      "Receiving objects: 100% (10798/10798), 358.61 MiB | 28.85 MiB/s, done.\r\n",
      "Resolving deltas: 100% (12/12), done.\r\n",
      "Updating files: 100% (10806/10806), done.\r\n"
     ]
    }
   ],
   "source": [
    "!git clone https://github.com/toby766/Hamoye_capstone_project_smote.git"
   ]
  },
  {
   "cell_type": "code",
   "execution_count": 2,
   "id": "390bee76",
   "metadata": {
    "execution": {
     "iopub.execute_input": "2022-03-30T23:59:36.591922Z",
     "iopub.status.busy": "2022-03-30T23:59:36.591375Z",
     "iopub.status.idle": "2022-03-30T23:59:41.574426Z",
     "shell.execute_reply": "2022-03-30T23:59:41.574892Z",
     "shell.execute_reply.started": "2022-03-30T23:04:02.082125Z"
    },
    "executionInfo": {
     "elapsed": 4217,
     "status": "ok",
     "timestamp": 1648640298026,
     "user": {
      "displayName": "Tobi",
      "userId": "06343529474612864282"
     },
     "user_tz": -60
    },
    "id": "l-PTM6beynBk",
    "papermill": {
     "duration": 5.045019,
     "end_time": "2022-03-30T23:59:41.575058",
     "exception": false,
     "start_time": "2022-03-30T23:59:36.530039",
     "status": "completed"
    },
    "tags": []
   },
   "outputs": [],
   "source": [
    "from tensorflow.keras.layers import Input, Lambda, Dense, Flatten\n",
    "from tensorflow.keras.models import Model\n",
    "from tensorflow.keras.applications.vgg16 import VGG16\n",
    "from tensorflow.keras.applications.vgg19 import VGG19\n",
    "from tensorflow.keras.preprocessing import image\n",
    "from tensorflow.keras.preprocessing.image import ImageDataGenerator,load_img\n",
    "from tensorflow.keras.models import Sequential\n",
    "import numpy as np\n",
    "from glob import glob\n"
   ]
  },
  {
   "cell_type": "code",
   "execution_count": 3,
   "id": "1dc0fb1a",
   "metadata": {
    "execution": {
     "iopub.execute_input": "2022-03-30T23:59:41.693493Z",
     "iopub.status.busy": "2022-03-30T23:59:41.692754Z",
     "iopub.status.idle": "2022-03-30T23:59:41.695245Z",
     "shell.execute_reply": "2022-03-30T23:59:41.694838Z",
     "shell.execute_reply.started": "2022-03-30T23:04:07.220510Z"
    },
    "executionInfo": {
     "elapsed": 10,
     "status": "ok",
     "timestamp": 1648640298028,
     "user": {
      "displayName": "Tobi",
      "userId": "06343529474612864282"
     },
     "user_tz": -60
    },
    "id": "Zug_ylZxyjQV",
    "papermill": {
     "duration": 0.061352,
     "end_time": "2022-03-30T23:59:41.695353",
     "exception": false,
     "start_time": "2022-03-30T23:59:41.634001",
     "status": "completed"
    },
    "tags": []
   },
   "outputs": [],
   "source": [
    "IMAGE_SIZE = [224, 224]\n",
    "\n",
    "train_path = './Hamoye_capstone_project_smote/Data/train'\n",
    "valid_path = './Hamoye_capstone_project_smote/Data/test'"
   ]
  },
  {
   "cell_type": "code",
   "execution_count": 4,
   "id": "344842cd",
   "metadata": {
    "execution": {
     "iopub.execute_input": "2022-03-30T23:59:41.812459Z",
     "iopub.status.busy": "2022-03-30T23:59:41.811833Z",
     "iopub.status.idle": "2022-03-30T23:59:44.886337Z",
     "shell.execute_reply": "2022-03-30T23:59:44.887034Z",
     "shell.execute_reply.started": "2022-03-30T23:04:07.230819Z"
    },
    "executionInfo": {
     "elapsed": 2837,
     "status": "ok",
     "timestamp": 1648640300857,
     "user": {
      "displayName": "Tobi",
      "userId": "06343529474612864282"
     },
     "user_tz": -60
    },
    "id": "yfJ4kiJNz2Y3",
    "outputId": "928102e0-282d-46e7-b3b7-1e6d9af23377",
    "papermill": {
     "duration": 3.136264,
     "end_time": "2022-03-30T23:59:44.887234",
     "exception": false,
     "start_time": "2022-03-30T23:59:41.750970",
     "status": "completed"
    },
    "tags": []
   },
   "outputs": [
    {
     "name": "stderr",
     "output_type": "stream",
     "text": [
      "2022-03-30 23:59:41.888668: I tensorflow/stream_executor/cuda/cuda_gpu_executor.cc:937] successful NUMA node read from SysFS had negative value (-1), but there must be at least one NUMA node, so returning NUMA node zero\n",
      "2022-03-30 23:59:41.980903: I tensorflow/stream_executor/cuda/cuda_gpu_executor.cc:937] successful NUMA node read from SysFS had negative value (-1), but there must be at least one NUMA node, so returning NUMA node zero\n",
      "2022-03-30 23:59:41.981565: I tensorflow/stream_executor/cuda/cuda_gpu_executor.cc:937] successful NUMA node read from SysFS had negative value (-1), but there must be at least one NUMA node, so returning NUMA node zero\n",
      "2022-03-30 23:59:41.982659: I tensorflow/core/platform/cpu_feature_guard.cc:142] This TensorFlow binary is optimized with oneAPI Deep Neural Network Library (oneDNN) to use the following CPU instructions in performance-critical operations:  AVX2 AVX512F FMA\n",
      "To enable them in other operations, rebuild TensorFlow with the appropriate compiler flags.\n",
      "2022-03-30 23:59:41.983559: I tensorflow/stream_executor/cuda/cuda_gpu_executor.cc:937] successful NUMA node read from SysFS had negative value (-1), but there must be at least one NUMA node, so returning NUMA node zero\n",
      "2022-03-30 23:59:41.984232: I tensorflow/stream_executor/cuda/cuda_gpu_executor.cc:937] successful NUMA node read from SysFS had negative value (-1), but there must be at least one NUMA node, so returning NUMA node zero\n",
      "2022-03-30 23:59:41.984829: I tensorflow/stream_executor/cuda/cuda_gpu_executor.cc:937] successful NUMA node read from SysFS had negative value (-1), but there must be at least one NUMA node, so returning NUMA node zero\n",
      "2022-03-30 23:59:43.660401: I tensorflow/stream_executor/cuda/cuda_gpu_executor.cc:937] successful NUMA node read from SysFS had negative value (-1), but there must be at least one NUMA node, so returning NUMA node zero\n",
      "2022-03-30 23:59:43.661203: I tensorflow/stream_executor/cuda/cuda_gpu_executor.cc:937] successful NUMA node read from SysFS had negative value (-1), but there must be at least one NUMA node, so returning NUMA node zero\n",
      "2022-03-30 23:59:43.661854: I tensorflow/stream_executor/cuda/cuda_gpu_executor.cc:937] successful NUMA node read from SysFS had negative value (-1), but there must be at least one NUMA node, so returning NUMA node zero\n",
      "2022-03-30 23:59:43.662423: I tensorflow/core/common_runtime/gpu/gpu_device.cc:1510] Created device /job:localhost/replica:0/task:0/device:GPU:0 with 15403 MB memory:  -> device: 0, name: Tesla P100-PCIE-16GB, pci bus id: 0000:00:04.0, compute capability: 6.0\n"
     ]
    },
    {
     "name": "stdout",
     "output_type": "stream",
     "text": [
      "Downloading data from https://storage.googleapis.com/tensorflow/keras-applications/vgg16/vgg16_weights_tf_dim_ordering_tf_kernels_notop.h5\n",
      "58892288/58889256 [==============================] - 0s 0us/step\n",
      "58900480/58889256 [==============================] - 0s 0us/step\n"
     ]
    }
   ],
   "source": [
    "vgg16 = VGG16(input_shape=IMAGE_SIZE + [3], weights='imagenet', include_top=False)"
   ]
  },
  {
   "cell_type": "code",
   "execution_count": 5,
   "id": "aba534a9",
   "metadata": {
    "execution": {
     "iopub.execute_input": "2022-03-30T23:59:45.119970Z",
     "iopub.status.busy": "2022-03-30T23:59:45.118828Z",
     "iopub.status.idle": "2022-03-30T23:59:45.122332Z",
     "shell.execute_reply": "2022-03-30T23:59:45.123487Z",
     "shell.execute_reply.started": "2022-03-30T23:04:10.359988Z"
    },
    "executionInfo": {
     "elapsed": 11,
     "status": "ok",
     "timestamp": 1648640300858,
     "user": {
      "displayName": "Tobi",
      "userId": "06343529474612864282"
     },
     "user_tz": -60
    },
    "id": "oHDObVEvz2mt",
    "papermill": {
     "duration": 0.120513,
     "end_time": "2022-03-30T23:59:45.123677",
     "exception": false,
     "start_time": "2022-03-30T23:59:45.003164",
     "status": "completed"
    },
    "tags": []
   },
   "outputs": [],
   "source": [
    "for layer in vgg16.layers:\n",
    "    layer.trainable = False"
   ]
  },
  {
   "cell_type": "code",
   "execution_count": 6,
   "id": "81ecf757",
   "metadata": {
    "execution": {
     "iopub.execute_input": "2022-03-30T23:59:45.334588Z",
     "iopub.status.busy": "2022-03-30T23:59:45.332325Z",
     "iopub.status.idle": "2022-03-30T23:59:45.335410Z",
     "shell.execute_reply": "2022-03-30T23:59:45.336031Z",
     "shell.execute_reply.started": "2022-03-30T23:04:10.367663Z"
    },
    "executionInfo": {
     "elapsed": 1374,
     "status": "ok",
     "timestamp": 1648640302223,
     "user": {
      "displayName": "Tobi",
      "userId": "06343529474612864282"
     },
     "user_tz": -60
    },
    "id": "dgkZ6B6Fz2rF",
    "papermill": {
     "duration": 0.109803,
     "end_time": "2022-03-30T23:59:45.336202",
     "exception": false,
     "start_time": "2022-03-30T23:59:45.226399",
     "status": "completed"
    },
    "tags": []
   },
   "outputs": [],
   "source": [
    "folders = glob('./Hamoye_capstone_project_smote/Data/train/*')"
   ]
  },
  {
   "cell_type": "code",
   "execution_count": 7,
   "id": "77bfa02c",
   "metadata": {
    "execution": {
     "iopub.execute_input": "2022-03-30T23:59:45.519057Z",
     "iopub.status.busy": "2022-03-30T23:59:45.518214Z",
     "iopub.status.idle": "2022-03-30T23:59:45.521464Z",
     "shell.execute_reply": "2022-03-30T23:59:45.521871Z",
     "shell.execute_reply.started": "2022-03-30T23:04:10.390792Z"
    },
    "executionInfo": {
     "elapsed": 18,
     "status": "ok",
     "timestamp": 1648640302224,
     "user": {
      "displayName": "Tobi",
      "userId": "06343529474612864282"
     },
     "user_tz": -60
    },
    "id": "pjpVdHIj0ZPQ",
    "outputId": "55191efc-b9b7-4792-cbfe-7a10c5021565",
    "papermill": {
     "duration": 0.085749,
     "end_time": "2022-03-30T23:59:45.521996",
     "exception": false,
     "start_time": "2022-03-30T23:59:45.436247",
     "status": "completed"
    },
    "tags": []
   },
   "outputs": [
    {
     "data": {
      "text/plain": [
       "['./Hamoye_capstone_project_smote/Data/train/Rhino',\n",
       " './Hamoye_capstone_project_smote/Data/train/Elephant',\n",
       " './Hamoye_capstone_project_smote/Data/train/Buffalo',\n",
       " './Hamoye_capstone_project_smote/Data/train/Zebra']"
      ]
     },
     "execution_count": 7,
     "metadata": {},
     "output_type": "execute_result"
    }
   ],
   "source": [
    "folders"
   ]
  },
  {
   "cell_type": "code",
   "execution_count": 8,
   "id": "fc930d13",
   "metadata": {
    "execution": {
     "iopub.execute_input": "2022-03-30T23:59:45.651497Z",
     "iopub.status.busy": "2022-03-30T23:59:45.649122Z",
     "iopub.status.idle": "2022-03-30T23:59:45.655631Z",
     "shell.execute_reply": "2022-03-30T23:59:45.655244Z",
     "shell.execute_reply.started": "2022-03-30T23:04:10.403133Z"
    },
    "executionInfo": {
     "elapsed": 14,
     "status": "ok",
     "timestamp": 1648640302225,
     "user": {
      "displayName": "Tobi",
      "userId": "06343529474612864282"
     },
     "user_tz": -60
    },
    "id": "BEnQ0RFQ0ZTv",
    "papermill": {
     "duration": 0.072334,
     "end_time": "2022-03-30T23:59:45.655736",
     "exception": false,
     "start_time": "2022-03-30T23:59:45.583402",
     "status": "completed"
    },
    "tags": []
   },
   "outputs": [],
   "source": [
    "x = Flatten()(vgg16.output)"
   ]
  },
  {
   "cell_type": "code",
   "execution_count": 9,
   "id": "7dafcb3d",
   "metadata": {
    "execution": {
     "iopub.execute_input": "2022-03-30T23:59:45.779418Z",
     "iopub.status.busy": "2022-03-30T23:59:45.778644Z",
     "iopub.status.idle": "2022-03-30T23:59:45.790453Z",
     "shell.execute_reply": "2022-03-30T23:59:45.789992Z",
     "shell.execute_reply.started": "2022-03-30T23:04:10.416227Z"
    },
    "executionInfo": {
     "elapsed": 14,
     "status": "ok",
     "timestamp": 1648640302226,
     "user": {
      "displayName": "Tobi",
      "userId": "06343529474612864282"
     },
     "user_tz": -60
    },
    "id": "CKcIZQqG0ZKn",
    "papermill": {
     "duration": 0.075561,
     "end_time": "2022-03-30T23:59:45.790556",
     "exception": false,
     "start_time": "2022-03-30T23:59:45.714995",
     "status": "completed"
    },
    "tags": []
   },
   "outputs": [],
   "source": [
    "prediction = Dense(len(folders), activation='softmax')(x)\n",
    "\n",
    "# create a model object\n",
    "model = Model(inputs=vgg16.input, outputs=prediction)"
   ]
  },
  {
   "cell_type": "code",
   "execution_count": 10,
   "id": "b8c205dc",
   "metadata": {
    "execution": {
     "iopub.execute_input": "2022-03-30T23:59:45.921157Z",
     "iopub.status.busy": "2022-03-30T23:59:45.920609Z",
     "iopub.status.idle": "2022-03-30T23:59:45.927085Z",
     "shell.execute_reply": "2022-03-30T23:59:45.926534Z",
     "shell.execute_reply.started": "2022-03-30T23:04:10.435781Z"
    },
    "executionInfo": {
     "elapsed": 14,
     "status": "ok",
     "timestamp": 1648640302226,
     "user": {
      "displayName": "Tobi",
      "userId": "06343529474612864282"
     },
     "user_tz": -60
    },
    "id": "TiV7S9TM0ZYN",
    "papermill": {
     "duration": 0.077579,
     "end_time": "2022-03-30T23:59:45.927197",
     "exception": false,
     "start_time": "2022-03-30T23:59:45.849618",
     "status": "completed"
    },
    "tags": []
   },
   "outputs": [],
   "source": [
    "model.compile(\n",
    "  loss='categorical_crossentropy',\n",
    "  optimizer='adam',\n",
    "  metrics=['accuracy']\n",
    ")"
   ]
  },
  {
   "cell_type": "code",
   "execution_count": 11,
   "id": "4b5ec32b",
   "metadata": {
    "execution": {
     "iopub.execute_input": "2022-03-30T23:59:46.051893Z",
     "iopub.status.busy": "2022-03-30T23:59:46.051088Z",
     "iopub.status.idle": "2022-03-30T23:59:46.053527Z",
     "shell.execute_reply": "2022-03-30T23:59:46.053100Z",
     "shell.execute_reply.started": "2022-03-30T23:04:10.449962Z"
    },
    "executionInfo": {
     "elapsed": 14,
     "status": "ok",
     "timestamp": 1648640302227,
     "user": {
      "displayName": "Tobi",
      "userId": "06343529474612864282"
     },
     "user_tz": -60
    },
    "id": "mc25zsOc0Zb2",
    "papermill": {
     "duration": 0.06657,
     "end_time": "2022-03-30T23:59:46.053628",
     "exception": false,
     "start_time": "2022-03-30T23:59:45.987058",
     "status": "completed"
    },
    "tags": []
   },
   "outputs": [],
   "source": [
    "from tensorflow.keras.preprocessing.image import ImageDataGenerator\n",
    "\n",
    "train_datagen = ImageDataGenerator(rescale = 1./255,\n",
    "                                   shear_range = 0.2,\n",
    "                                   zoom_range = 0.2,\n",
    "                                   horizontal_flip = True)\n",
    "\n",
    "test_datagen = ImageDataGenerator(rescale = 1./255)"
   ]
  },
  {
   "cell_type": "code",
   "execution_count": 12,
   "id": "be1b3980",
   "metadata": {
    "execution": {
     "iopub.execute_input": "2022-03-30T23:59:46.179311Z",
     "iopub.status.busy": "2022-03-30T23:59:46.178474Z",
     "iopub.status.idle": "2022-03-30T23:59:46.604424Z",
     "shell.execute_reply": "2022-03-30T23:59:46.605367Z",
     "shell.execute_reply.started": "2022-03-30T23:04:10.457397Z"
    },
    "executionInfo": {
     "elapsed": 11040,
     "status": "ok",
     "timestamp": 1648640313253,
     "user": {
      "displayName": "Tobi",
      "userId": "06343529474612864282"
     },
     "user_tz": -60
    },
    "id": "13hol4fZ0Zgk",
    "outputId": "4087f293-dfe6-4eb6-d798-bae1f6b9a333",
    "papermill": {
     "duration": 0.490093,
     "end_time": "2022-03-30T23:59:46.605553",
     "exception": false,
     "start_time": "2022-03-30T23:59:46.115460",
     "status": "completed"
    },
    "tags": []
   },
   "outputs": [
    {
     "name": "stdout",
     "output_type": "stream",
     "text": [
      "Found 7556 images belonging to 4 classes.\n"
     ]
    }
   ],
   "source": [
    "training_set = train_datagen.flow_from_directory('./Hamoye_capstone_project_smote/Data/train',\n",
    "                                                 target_size = (224, 224),\n",
    "                                                 batch_size = 32,\n",
    "                                                 class_mode = 'categorical')"
   ]
  },
  {
   "cell_type": "code",
   "execution_count": 13,
   "id": "1b49b1cb",
   "metadata": {
    "execution": {
     "iopub.execute_input": "2022-03-30T23:59:46.732550Z",
     "iopub.status.busy": "2022-03-30T23:59:46.732035Z",
     "iopub.status.idle": "2022-03-30T23:59:46.838424Z",
     "shell.execute_reply": "2022-03-30T23:59:46.837991Z",
     "shell.execute_reply.started": "2022-03-30T23:04:10.891007Z"
    },
    "executionInfo": {
     "elapsed": 1380,
     "status": "ok",
     "timestamp": 1648640314611,
     "user": {
      "displayName": "Tobi",
      "userId": "06343529474612864282"
     },
     "user_tz": -60
    },
    "id": "rEWrDGrk0ZkF",
    "outputId": "c0ed5f80-606e-4739-d9b8-ce318618fa35",
    "papermill": {
     "duration": 0.171127,
     "end_time": "2022-03-30T23:59:46.838546",
     "exception": false,
     "start_time": "2022-03-30T23:59:46.667419",
     "status": "completed"
    },
    "tags": []
   },
   "outputs": [
    {
     "name": "stdout",
     "output_type": "stream",
     "text": [
      "Found 1084 images belonging to 4 classes.\n"
     ]
    }
   ],
   "source": [
    "test_set = test_datagen.flow_from_directory('./Hamoye_capstone_project_smote/Data/test',\n",
    "                                            target_size = (224, 224),\n",
    "                                            batch_size = 32,\n",
    "                                            class_mode = 'categorical')"
   ]
  },
  {
   "cell_type": "code",
   "execution_count": 14,
   "id": "a25c8501",
   "metadata": {
    "execution": {
     "iopub.execute_input": "2022-03-30T23:59:46.967259Z",
     "iopub.status.busy": "2022-03-30T23:59:46.966285Z",
     "iopub.status.idle": "2022-03-31T00:34:17.732681Z",
     "shell.execute_reply": "2022-03-31T00:34:17.732208Z",
     "shell.execute_reply.started": "2022-03-30T23:04:11.002514Z"
    },
    "executionInfo": {
     "elapsed": 4376407,
     "status": "ok",
     "timestamp": 1648644691011,
     "user": {
      "displayName": "Tobi",
      "userId": "06343529474612864282"
     },
     "user_tz": -60
    },
    "id": "lYBEXP8Z0ZpP",
    "outputId": "5cfe3ef5-a579-47f1-9fd7-756c5da641f6",
    "papermill": {
     "duration": 2070.832803,
     "end_time": "2022-03-31T00:34:17.732844",
     "exception": false,
     "start_time": "2022-03-30T23:59:46.900041",
     "status": "completed"
    },
    "tags": []
   },
   "outputs": [
    {
     "name": "stderr",
     "output_type": "stream",
     "text": [
      "2022-03-30 23:59:47.424507: I tensorflow/compiler/mlir/mlir_graph_optimization_pass.cc:185] None of the MLIR Optimization Passes are enabled (registered 2)\n"
     ]
    },
    {
     "name": "stdout",
     "output_type": "stream",
     "text": [
      "Epoch 1/20\n"
     ]
    },
    {
     "name": "stderr",
     "output_type": "stream",
     "text": [
      "2022-03-30 23:59:49.086959: I tensorflow/stream_executor/cuda/cuda_dnn.cc:369] Loaded cuDNN version 8005\n"
     ]
    },
    {
     "name": "stdout",
     "output_type": "stream",
     "text": [
      "237/237 [==============================] - 107s 411ms/step - loss: 0.3644 - accuracy: 0.8671 - val_loss: 0.2230 - val_accuracy: 0.9133\n",
      "Epoch 2/20\n",
      "237/237 [==============================] - 95s 402ms/step - loss: 0.1760 - accuracy: 0.9374 - val_loss: 0.1282 - val_accuracy: 0.9557\n",
      "Epoch 3/20\n",
      "237/237 [==============================] - 95s 400ms/step - loss: 0.1325 - accuracy: 0.9530 - val_loss: 0.0959 - val_accuracy: 0.9696\n",
      "Epoch 4/20\n",
      "237/237 [==============================] - 96s 406ms/step - loss: 0.1055 - accuracy: 0.9618 - val_loss: 0.1304 - val_accuracy: 0.9594\n",
      "Epoch 5/20\n",
      "237/237 [==============================] - 96s 406ms/step - loss: 0.0890 - accuracy: 0.9672 - val_loss: 0.1280 - val_accuracy: 0.9520\n",
      "Epoch 6/20\n",
      "237/237 [==============================] - 96s 404ms/step - loss: 0.0916 - accuracy: 0.9651 - val_loss: 0.0988 - val_accuracy: 0.9723\n",
      "Epoch 7/20\n",
      "237/237 [==============================] - 96s 403ms/step - loss: 0.0644 - accuracy: 0.9764 - val_loss: 0.1165 - val_accuracy: 0.9594\n",
      "Epoch 8/20\n",
      "237/237 [==============================] - 95s 403ms/step - loss: 0.0684 - accuracy: 0.9753 - val_loss: 0.1337 - val_accuracy: 0.9566\n",
      "Epoch 9/20\n",
      "237/237 [==============================] - 96s 405ms/step - loss: 0.0589 - accuracy: 0.9800 - val_loss: 0.1001 - val_accuracy: 0.9649\n",
      "Epoch 10/20\n",
      "237/237 [==============================] - 96s 403ms/step - loss: 0.0609 - accuracy: 0.9790 - val_loss: 0.1636 - val_accuracy: 0.9511\n",
      "Epoch 11/20\n",
      "237/237 [==============================] - 97s 409ms/step - loss: 0.0510 - accuracy: 0.9819 - val_loss: 0.1277 - val_accuracy: 0.9576\n",
      "Epoch 12/20\n",
      "237/237 [==============================] - 99s 418ms/step - loss: 0.0449 - accuracy: 0.9841 - val_loss: 0.1094 - val_accuracy: 0.9686\n",
      "Epoch 13/20\n",
      "237/237 [==============================] - 97s 409ms/step - loss: 0.0452 - accuracy: 0.9828 - val_loss: 0.1124 - val_accuracy: 0.9668\n",
      "Epoch 14/20\n",
      "237/237 [==============================] - 97s 408ms/step - loss: 0.0456 - accuracy: 0.9820 - val_loss: 0.2273 - val_accuracy: 0.9446\n",
      "Epoch 15/20\n",
      "237/237 [==============================] - 96s 406ms/step - loss: 0.0833 - accuracy: 0.9697 - val_loss: 0.1363 - val_accuracy: 0.9640\n",
      "Epoch 16/20\n",
      "237/237 [==============================] - 98s 412ms/step - loss: 0.0454 - accuracy: 0.9845 - val_loss: 0.1972 - val_accuracy: 0.9483\n",
      "Epoch 17/20\n",
      "237/237 [==============================] - 97s 411ms/step - loss: 0.0486 - accuracy: 0.9835 - val_loss: 0.1675 - val_accuracy: 0.9557\n",
      "Epoch 18/20\n",
      "237/237 [==============================] - 98s 414ms/step - loss: 0.0406 - accuracy: 0.9854 - val_loss: 0.2163 - val_accuracy: 0.9483\n",
      "Epoch 19/20\n",
      "237/237 [==============================] - 98s 413ms/step - loss: 0.0291 - accuracy: 0.9885 - val_loss: 0.1129 - val_accuracy: 0.9714\n",
      "Epoch 20/20\n",
      "237/237 [==============================] - 98s 413ms/step - loss: 0.0261 - accuracy: 0.9911 - val_loss: 0.1458 - val_accuracy: 0.9622\n"
     ]
    }
   ],
   "source": [
    "r = model.fit(\n",
    "  training_set,\n",
    "  validation_data=test_set,\n",
    "  epochs=20,\n",
    "  steps_per_epoch=len(training_set),\n",
    "  validation_steps=len(test_set)\n",
    ")"
   ]
  },
  {
   "cell_type": "code",
   "execution_count": 15,
   "id": "b533b518",
   "metadata": {
    "execution": {
     "iopub.execute_input": "2022-03-31T00:34:20.930832Z",
     "iopub.status.busy": "2022-03-31T00:34:20.929287Z",
     "iopub.status.idle": "2022-03-31T00:34:24.848121Z",
     "shell.execute_reply": "2022-03-31T00:34:24.847484Z",
     "shell.execute_reply.started": "2022-03-30T23:35:53.792821Z"
    },
    "executionInfo": {
     "elapsed": 12002,
     "status": "ok",
     "timestamp": 1648644703002,
     "user": {
      "displayName": "Tobi",
      "userId": "06343529474612864282"
     },
     "user_tz": -60
    },
    "id": "2B7uln2p0Zti",
    "outputId": "ec5b6419-c0ba-495d-ab84-107126bcf90a",
    "papermill": {
     "duration": 5.532364,
     "end_time": "2022-03-31T00:34:24.848252",
     "exception": false,
     "start_time": "2022-03-31T00:34:19.315888",
     "status": "completed"
    },
    "tags": []
   },
   "outputs": [
    {
     "name": "stdout",
     "output_type": "stream",
     "text": [
      "Accuracy: 96.218\n"
     ]
    }
   ],
   "source": [
    "_, acc = model.evaluate(test_set, steps=len(test_set), verbose=0)\n",
    "print('Accuracy: %.3f' % (acc * 100.0))"
   ]
  },
  {
   "cell_type": "code",
   "execution_count": 16,
   "id": "74f958ee",
   "metadata": {
    "execution": {
     "iopub.execute_input": "2022-03-31T00:34:28.168526Z",
     "iopub.status.busy": "2022-03-31T00:34:28.167525Z",
     "iopub.status.idle": "2022-03-31T00:34:28.405346Z",
     "shell.execute_reply": "2022-03-31T00:34:28.404740Z",
     "shell.execute_reply.started": "2022-03-30T23:35:57.345049Z"
    },
    "executionInfo": {
     "elapsed": 22,
     "status": "ok",
     "timestamp": 1648644703004,
     "user": {
      "displayName": "Tobi",
      "userId": "06343529474612864282"
     },
     "user_tz": -60
    },
    "id": "4skLWOMN0Zxb",
    "outputId": "aef0db23-10a7-417c-f42d-03b5a914cd3f",
    "papermill": {
     "duration": 1.898943,
     "end_time": "2022-03-31T00:34:28.405486",
     "exception": false,
     "start_time": "2022-03-31T00:34:26.506543",
     "status": "completed"
    },
    "tags": []
   },
   "outputs": [
    {
     "data": {
      "image/png": "[encoded data removed]",
      "text/plain": [
       "<Figure size 432x288 with 1 Axes>"
      ]
     },
     "metadata": {
      "needs_background": "light"
     },
     "output_type": "display_data"
    }
   ],
   "source": [
    "import matplotlib.pyplot as plt\n",
    "plt.plot(r.history[\"accuracy\"])\n",
    "plt.plot(r.history['val_accuracy'])\n",
    "plt.plot(r.history['loss'])\n",
    "plt.plot(r.history['val_loss'])\n",
    "plt.title(\"model accuracy\")\n",
    "plt.ylabel(\"Accuracy\")\n",
    "plt.xlabel(\"Epoch\")\n",
    "plt.legend([\"Accuracy\",\"Validation Accuracy\",\"loss\",\"Validation Loss\"])\n",
    "plt.show()"
   ]
  },
  {
   "cell_type": "code",
   "execution_count": 17,
   "id": "651bdc5e",
   "metadata": {
    "execution": {
     "iopub.execute_input": "2022-03-31T00:34:31.770538Z",
     "iopub.status.busy": "2022-03-31T00:34:31.769108Z",
     "iopub.status.idle": "2022-03-31T00:34:31.771219Z",
     "shell.execute_reply": "2022-03-31T00:34:31.771842Z",
     "shell.execute_reply.started": "2022-03-30T23:35:57.571107Z"
    },
    "executionInfo": {
     "elapsed": 19,
     "status": "ok",
     "timestamp": 1648644703007,
     "user": {
      "displayName": "Tobi",
      "userId": "06343529474612864282"
     },
     "user_tz": -60
    },
    "id": "WNbXLukTz2vW",
    "papermill": {
     "duration": 1.663304,
     "end_time": "2022-03-31T00:34:31.772004",
     "exception": false,
     "start_time": "2022-03-31T00:34:30.108700",
     "status": "completed"
    },
    "tags": []
   },
   "outputs": [],
   "source": [
    "y_val = test_set.classes"
   ]
  },
  {
   "cell_type": "code",
   "execution_count": 18,
   "id": "3581058b",
   "metadata": {
    "execution": {
     "iopub.execute_input": "2022-03-31T00:34:35.276173Z",
     "iopub.status.busy": "2022-03-31T00:34:35.275113Z",
     "iopub.status.idle": "2022-03-31T00:34:39.067329Z",
     "shell.execute_reply": "2022-03-31T00:34:39.066874Z",
     "shell.execute_reply.started": "2022-03-30T23:35:57.576878Z"
    },
    "executionInfo": {
     "elapsed": 12348,
     "status": "ok",
     "timestamp": 1648644715339,
     "user": {
      "displayName": "Tobi",
      "userId": "06343529474612864282"
     },
     "user_tz": -60
    },
    "id": "DNCswh3_OTMk",
    "outputId": "a3c88144-aac3-4845-c7f9-4af6a8d40eb6",
    "papermill": {
     "duration": 5.586509,
     "end_time": "2022-03-31T00:34:39.067458",
     "exception": false,
     "start_time": "2022-03-31T00:34:33.480949",
     "status": "completed"
    },
    "tags": []
   },
   "outputs": [
    {
     "name": "stdout",
     "output_type": "stream",
     "text": [
      "              precision    recall  f1-score   support\n",
      "\n",
      "           0       0.27      0.26      0.26       271\n",
      "           1       0.25      0.23      0.24       271\n",
      "           2       0.26      0.28      0.27       271\n",
      "           3       0.25      0.25      0.25       271\n",
      "\n",
      "    accuracy                           0.26      1084\n",
      "   macro avg       0.26      0.26      0.26      1084\n",
      "weighted avg       0.26      0.26      0.26      1084\n",
      "\n"
     ]
    }
   ],
   "source": [
    "from sklearn.metrics import classification_report,confusion_matrix\n",
    "predictions = model.predict(test_set, verbose=0)\n",
    "\n",
    "\n",
    "print(classification_report( y_val, predictions.argmax(axis=1)))"
   ]
  },
  {
   "cell_type": "code",
   "execution_count": null,
   "id": "41fc9c4c",
   "metadata": {
    "execution": {
     "iopub.execute_input": "2022-03-30T23:40:47.460405Z",
     "iopub.status.busy": "2022-03-30T23:40:47.459573Z",
     "iopub.status.idle": "2022-03-30T23:40:47.637421Z",
     "shell.execute_reply": "2022-03-30T23:40:47.636502Z",
     "shell.execute_reply.started": "2022-03-30T23:40:47.460360Z"
    },
    "executionInfo": {
     "elapsed": 3156,
     "status": "ok",
     "timestamp": 1648644718476,
     "user": {
      "displayName": "Tobi",
      "userId": "06343529474612864282"
     },
     "user_tz": -60
    },
    "id": "Y2hAfOXROTnt",
    "outputId": "b950c54b-8046-4eb7-e74e-4a2ce6b1e9bc",
    "papermill": {
     "duration": 1.649067,
     "end_time": "2022-03-31T00:34:42.318135",
     "exception": false,
     "start_time": "2022-03-31T00:34:40.669068",
     "status": "completed"
    },
    "tags": []
   },
   "outputs": [],
   "source": []
  },
  {
   "cell_type": "code",
   "execution_count": null,
   "id": "ef93724d",
   "metadata": {
    "executionInfo": {
     "elapsed": 34,
     "status": "ok",
     "timestamp": 1648644718477,
     "user": {
      "displayName": "Tobi",
      "userId": "06343529474612864282"
     },
     "user_tz": -60
    },
    "id": "UArDKm2LOTrR",
    "papermill": {
     "duration": 1.749375,
     "end_time": "2022-03-31T00:34:45.672332",
     "exception": false,
     "start_time": "2022-03-31T00:34:43.922957",
     "status": "completed"
    },
    "tags": []
   },
   "outputs": [],
   "source": []
  },
  {
   "cell_type": "markdown",
   "id": "f66ca4f7",
   "metadata": {
    "id": "8WrXe0ieyjqD",
    "papermill": {
     "duration": 1.565576,
     "end_time": "2022-03-31T00:34:49.514938",
     "exception": false,
     "start_time": "2022-03-31T00:34:47.949362",
     "status": "completed"
    },
    "tags": []
   },
   "source": []
  }
 ],
 "metadata": {
  "kernelspec": {
   "display_name": "Python 3",
   "language": "python",
   "name": "python3"
  },
  "language_info": {
   "codemirror_mode": {
    "name": "ipython",
    "version": 3
   },
   "file_extension": ".py",
   "mimetype": "text/x-python",
   "name": "python",
   "nbconvert_exporter": "python",
   "pygments_lexer": "ipython3",
   "version": "3.7.12"
  },
  "papermill": {
   "default_parameters": {},
   "duration": 2142.081169,
   "end_time": "2022-03-31T00:34:54.365310",
   "environment_variables": {},
   "exception": null,
   "input_path": "__notebook__.ipynb",
   "output_path": "__notebook__.ipynb",
   "parameters": {},
   "start_time": "2022-03-30T23:59:12.284141",
   "version": "2.3.3"
  }
 },
 "nbformat": 4,
 "nbformat_minor": 5
}
