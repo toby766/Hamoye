{
 "cells": [
  {
   "cell_type": "code",
   "execution_count": 1,
   "id": "3162c256",
   "metadata": {
    "execution": {
     "iopub.execute_input": "2022-03-31T16:00:36.799209Z",
     "iopub.status.busy": "2022-03-31T16:00:36.798324Z",
     "iopub.status.idle": "2022-03-31T16:00:54.905552Z",
     "shell.execute_reply": "2022-03-31T16:00:54.904933Z",
     "shell.execute_reply.started": "2022-03-31T15:34:28.130998Z"
    },
    "papermill": {
     "duration": 18.161556,
     "end_time": "2022-03-31T16:00:54.905698",
     "exception": false,
     "start_time": "2022-03-31T16:00:36.744142",
     "status": "completed"
    },
    "tags": []
   },
   "outputs": [
    {
     "name": "stdout",
     "output_type": "stream",
     "text": [
      "Cloning into 'Hamoye_capstone_project_smote'...\r\n",
      "remote: Enumerating objects: 10798, done.\u001b[K\r\n",
      "remote: Counting objects: 100% (30/30), done.\u001b[K\r\n",
      "remote: Compressing objects: 100% (24/24), done.\u001b[K\r\n",
      "remote: Total 10798 (delta 7), reused 14 (delta 3), pack-reused 10768\u001b[K\r\n",
      "Receiving objects: 100% (10798/10798), 358.61 MiB | 25.45 MiB/s, done.\r\n",
      "Resolving deltas: 100% (12/12), done.\r\n",
      "Updating files: 100% (10806/10806), done.\r\n"
     ]
    }
   ],
   "source": [
    "!git clone https://github.com/toby766/Hamoye_capstone_project_smote.git"
   ]
  },
  {
   "cell_type": "code",
   "execution_count": 2,
   "id": "6181b41e",
   "metadata": {
    "execution": {
     "iopub.execute_input": "2022-03-31T16:00:55.026905Z",
     "iopub.status.busy": "2022-03-31T16:00:55.026299Z",
     "iopub.status.idle": "2022-03-31T16:01:00.156500Z",
     "shell.execute_reply": "2022-03-31T16:01:00.155962Z",
     "shell.execute_reply.started": "2022-03-31T15:34:46.95919Z"
    },
    "executionInfo": {
     "elapsed": 4217,
     "status": "ok",
     "timestamp": 1648640298026,
     "user": {
      "displayName": "Tobi",
      "userId": "06343529474612864282"
     },
     "user_tz": -60
    },
    "id": "l-PTM6beynBk",
    "papermill": {
     "duration": 5.192722,
     "end_time": "2022-03-31T16:01:00.156635",
     "exception": false,
     "start_time": "2022-03-31T16:00:54.963913",
     "status": "completed"
    },
    "tags": []
   },
   "outputs": [],
   "source": [
    "from tensorflow.keras.layers import Input, Lambda, Dense, Flatten\n",
    "from tensorflow.keras.models import Model\n",
    "from tensorflow.keras.applications.vgg16 import VGG16\n",
    "from tensorflow.keras.applications.vgg19 import VGG19\n",
    "from tensorflow.keras.preprocessing import image\n",
    "from tensorflow.keras.preprocessing.image import ImageDataGenerator,load_img\n",
    "from tensorflow.keras.models import Sequential\n",
    "import numpy as np\n",
    "from glob import glob\n"
   ]
  },
  {
   "cell_type": "code",
   "execution_count": 3,
   "id": "3fa38bb6",
   "metadata": {
    "execution": {
     "iopub.execute_input": "2022-03-31T16:01:00.275804Z",
     "iopub.status.busy": "2022-03-31T16:01:00.274957Z",
     "iopub.status.idle": "2022-03-31T16:01:00.278227Z",
     "shell.execute_reply": "2022-03-31T16:01:00.277789Z",
     "shell.execute_reply.started": "2022-03-31T15:34:53.48858Z"
    },
    "executionInfo": {
     "elapsed": 10,
     "status": "ok",
     "timestamp": 1648640298028,
     "user": {
      "displayName": "Tobi",
      "userId": "06343529474612864282"
     },
     "user_tz": -60
    },
    "id": "Zug_ylZxyjQV",
    "papermill": {
     "duration": 0.063198,
     "end_time": "2022-03-31T16:01:00.278346",
     "exception": false,
     "start_time": "2022-03-31T16:01:00.215148",
     "status": "completed"
    },
    "tags": []
   },
   "outputs": [],
   "source": [
    "IMAGE_SIZE = [224, 224]\n",
    "\n",
    "train_path = './Hamoye_capstone_project_smote/Data/train'\n",
    "valid_path = './Hamoye_capstone_project_smote/Data/test'"
   ]
  },
  {
   "cell_type": "code",
   "execution_count": 4,
   "id": "9bed237d",
   "metadata": {
    "execution": {
     "iopub.execute_input": "2022-03-31T16:01:00.396369Z",
     "iopub.status.busy": "2022-03-31T16:01:00.395817Z",
     "iopub.status.idle": "2022-03-31T16:01:04.060789Z",
     "shell.execute_reply": "2022-03-31T16:01:04.060296Z",
     "shell.execute_reply.started": "2022-03-31T15:34:53.503723Z"
    },
    "executionInfo": {
     "elapsed": 2837,
     "status": "ok",
     "timestamp": 1648640300857,
     "user": {
      "displayName": "Tobi",
      "userId": "06343529474612864282"
     },
     "user_tz": -60
    },
    "id": "yfJ4kiJNz2Y3",
    "outputId": "928102e0-282d-46e7-b3b7-1e6d9af23377",
    "papermill": {
     "duration": 3.726435,
     "end_time": "2022-03-31T16:01:04.060919",
     "exception": false,
     "start_time": "2022-03-31T16:01:00.334484",
     "status": "completed"
    },
    "tags": []
   },
   "outputs": [
    {
     "name": "stderr",
     "output_type": "stream",
     "text": [
      "2022-03-31 16:01:00.478353: I tensorflow/stream_executor/cuda/cuda_gpu_executor.cc:937] successful NUMA node read from SysFS had negative value (-1), but there must be at least one NUMA node, so returning NUMA node zero\n",
      "2022-03-31 16:01:00.571239: I tensorflow/stream_executor/cuda/cuda_gpu_executor.cc:937] successful NUMA node read from SysFS had negative value (-1), but there must be at least one NUMA node, so returning NUMA node zero\n",
      "2022-03-31 16:01:00.571923: I tensorflow/stream_executor/cuda/cuda_gpu_executor.cc:937] successful NUMA node read from SysFS had negative value (-1), but there must be at least one NUMA node, so returning NUMA node zero\n",
      "2022-03-31 16:01:00.573018: I tensorflow/core/platform/cpu_feature_guard.cc:142] This TensorFlow binary is optimized with oneAPI Deep Neural Network Library (oneDNN) to use the following CPU instructions in performance-critical operations:  AVX2 AVX512F FMA\n",
      "To enable them in other operations, rebuild TensorFlow with the appropriate compiler flags.\n",
      "2022-03-31 16:01:00.574207: I tensorflow/stream_executor/cuda/cuda_gpu_executor.cc:937] successful NUMA node read from SysFS had negative value (-1), but there must be at least one NUMA node, so returning NUMA node zero\n",
      "2022-03-31 16:01:00.574854: I tensorflow/stream_executor/cuda/cuda_gpu_executor.cc:937] successful NUMA node read from SysFS had negative value (-1), but there must be at least one NUMA node, so returning NUMA node zero\n",
      "2022-03-31 16:01:00.575453: I tensorflow/stream_executor/cuda/cuda_gpu_executor.cc:937] successful NUMA node read from SysFS had negative value (-1), but there must be at least one NUMA node, so returning NUMA node zero\n",
      "2022-03-31 16:01:02.372757: I tensorflow/stream_executor/cuda/cuda_gpu_executor.cc:937] successful NUMA node read from SysFS had negative value (-1), but there must be at least one NUMA node, so returning NUMA node zero\n",
      "2022-03-31 16:01:02.373605: I tensorflow/stream_executor/cuda/cuda_gpu_executor.cc:937] successful NUMA node read from SysFS had negative value (-1), but there must be at least one NUMA node, so returning NUMA node zero\n",
      "2022-03-31 16:01:02.374291: I tensorflow/stream_executor/cuda/cuda_gpu_executor.cc:937] successful NUMA node read from SysFS had negative value (-1), but there must be at least one NUMA node, so returning NUMA node zero\n",
      "2022-03-31 16:01:02.374868: I tensorflow/core/common_runtime/gpu/gpu_device.cc:1510] Created device /job:localhost/replica:0/task:0/device:GPU:0 with 15403 MB memory:  -> device: 0, name: Tesla P100-PCIE-16GB, pci bus id: 0000:00:04.0, compute capability: 6.0\n"
     ]
    },
    {
     "name": "stdout",
     "output_type": "stream",
     "text": [
      "Downloading data from https://storage.googleapis.com/tensorflow/keras-applications/vgg16/vgg16_weights_tf_dim_ordering_tf_kernels_notop.h5\n",
      "58892288/58889256 [==============================] - 1s 0us/step\n",
      "58900480/58889256 [==============================] - 1s 0us/step\n"
     ]
    }
   ],
   "source": [
    "vgg16 = VGG16(input_shape=IMAGE_SIZE + [3], weights='imagenet', include_top=False)"
   ]
  },
  {
   "cell_type": "code",
   "execution_count": 5,
   "id": "cd3693a5",
   "metadata": {
    "execution": {
     "iopub.execute_input": "2022-03-31T16:01:04.196357Z",
     "iopub.status.busy": "2022-03-31T16:01:04.193026Z",
     "iopub.status.idle": "2022-03-31T16:01:04.198630Z",
     "shell.execute_reply": "2022-03-31T16:01:04.198192Z",
     "shell.execute_reply.started": "2022-03-31T15:34:57.539973Z"
    },
    "executionInfo": {
     "elapsed": 11,
     "status": "ok",
     "timestamp": 1648640300858,
     "user": {
      "displayName": "Tobi",
      "userId": "06343529474612864282"
     },
     "user_tz": -60
    },
    "id": "oHDObVEvz2mt",
    "papermill": {
     "duration": 0.069841,
     "end_time": "2022-03-31T16:01:04.198739",
     "exception": false,
     "start_time": "2022-03-31T16:01:04.128898",
     "status": "completed"
    },
    "tags": []
   },
   "outputs": [],
   "source": [
    "for layer in vgg16.layers:\n",
    "    layer.trainable = False"
   ]
  },
  {
   "cell_type": "code",
   "execution_count": 6,
   "id": "a6c33ad6",
   "metadata": {
    "execution": {
     "iopub.execute_input": "2022-03-31T16:01:04.326527Z",
     "iopub.status.busy": "2022-03-31T16:01:04.325879Z",
     "iopub.status.idle": "2022-03-31T16:01:04.329678Z",
     "shell.execute_reply": "2022-03-31T16:01:04.330112Z",
     "shell.execute_reply.started": "2022-03-31T15:34:57.549149Z"
    },
    "executionInfo": {
     "elapsed": 1374,
     "status": "ok",
     "timestamp": 1648640302223,
     "user": {
      "displayName": "Tobi",
      "userId": "06343529474612864282"
     },
     "user_tz": -60
    },
    "id": "dgkZ6B6Fz2rF",
    "papermill": {
     "duration": 0.071973,
     "end_time": "2022-03-31T16:01:04.330267",
     "exception": false,
     "start_time": "2022-03-31T16:01:04.258294",
     "status": "completed"
    },
    "tags": []
   },
   "outputs": [],
   "source": [
    "folders = glob('./Hamoye_capstone_project_smote/Data/train/*')"
   ]
  },
  {
   "cell_type": "code",
   "execution_count": 7,
   "id": "76e9d3a1",
   "metadata": {
    "execution": {
     "iopub.execute_input": "2022-03-31T16:01:04.468209Z",
     "iopub.status.busy": "2022-03-31T16:01:04.467259Z",
     "iopub.status.idle": "2022-03-31T16:01:04.470699Z",
     "shell.execute_reply": "2022-03-31T16:01:04.471120Z",
     "shell.execute_reply.started": "2022-03-31T15:34:57.572859Z"
    },
    "executionInfo": {
     "elapsed": 18,
     "status": "ok",
     "timestamp": 1648640302224,
     "user": {
      "displayName": "Tobi",
      "userId": "06343529474612864282"
     },
     "user_tz": -60
    },
    "id": "pjpVdHIj0ZPQ",
    "outputId": "55191efc-b9b7-4792-cbfe-7a10c5021565",
    "papermill": {
     "duration": 0.070134,
     "end_time": "2022-03-31T16:01:04.471262",
     "exception": false,
     "start_time": "2022-03-31T16:01:04.401128",
     "status": "completed"
    },
    "tags": []
   },
   "outputs": [
    {
     "data": {
      "text/plain": [
       "['./Hamoye_capstone_project_smote/Data/train/Zebra',\n",
       " './Hamoye_capstone_project_smote/Data/train/Buffalo',\n",
       " './Hamoye_capstone_project_smote/Data/train/Rhino',\n",
       " './Hamoye_capstone_project_smote/Data/train/Elephant']"
      ]
     },
     "execution_count": 7,
     "metadata": {},
     "output_type": "execute_result"
    }
   ],
   "source": [
    "folders"
   ]
  },
  {
   "cell_type": "code",
   "execution_count": 8,
   "id": "5b7b31a4",
   "metadata": {
    "execution": {
     "iopub.execute_input": "2022-03-31T16:01:04.597305Z",
     "iopub.status.busy": "2022-03-31T16:01:04.596523Z",
     "iopub.status.idle": "2022-03-31T16:01:04.603537Z",
     "shell.execute_reply": "2022-03-31T16:01:04.603025Z",
     "shell.execute_reply.started": "2022-03-31T15:34:57.590138Z"
    },
    "executionInfo": {
     "elapsed": 14,
     "status": "ok",
     "timestamp": 1648640302225,
     "user": {
      "displayName": "Tobi",
      "userId": "06343529474612864282"
     },
     "user_tz": -60
    },
    "id": "BEnQ0RFQ0ZTv",
    "papermill": {
     "duration": 0.071983,
     "end_time": "2022-03-31T16:01:04.603662",
     "exception": false,
     "start_time": "2022-03-31T16:01:04.531679",
     "status": "completed"
    },
    "tags": []
   },
   "outputs": [],
   "source": [
    "x = Flatten()(vgg16.output)"
   ]
  },
  {
   "cell_type": "code",
   "execution_count": 9,
   "id": "66a23072",
   "metadata": {
    "execution": {
     "iopub.execute_input": "2022-03-31T16:01:04.730973Z",
     "iopub.status.busy": "2022-03-31T16:01:04.730184Z",
     "iopub.status.idle": "2022-03-31T16:01:04.742530Z",
     "shell.execute_reply": "2022-03-31T16:01:04.741930Z",
     "shell.execute_reply.started": "2022-03-31T15:34:57.605949Z"
    },
    "executionInfo": {
     "elapsed": 14,
     "status": "ok",
     "timestamp": 1648640302226,
     "user": {
      "displayName": "Tobi",
      "userId": "06343529474612864282"
     },
     "user_tz": -60
    },
    "id": "CKcIZQqG0ZKn",
    "papermill": {
     "duration": 0.078737,
     "end_time": "2022-03-31T16:01:04.742658",
     "exception": false,
     "start_time": "2022-03-31T16:01:04.663921",
     "status": "completed"
    },
    "tags": []
   },
   "outputs": [],
   "source": [
    "prediction = Dense(len(folders), activation='softmax')(x)\n",
    "\n",
    "# create a model object\n",
    "model = Model(inputs=vgg16.input, outputs=prediction)"
   ]
  },
  {
   "cell_type": "code",
   "execution_count": 10,
   "id": "206e5b26",
   "metadata": {
    "execution": {
     "iopub.execute_input": "2022-03-31T16:01:04.871387Z",
     "iopub.status.busy": "2022-03-31T16:01:04.870848Z",
     "iopub.status.idle": "2022-03-31T16:01:04.877799Z",
     "shell.execute_reply": "2022-03-31T16:01:04.877373Z",
     "shell.execute_reply.started": "2022-03-31T15:34:57.632589Z"
    },
    "executionInfo": {
     "elapsed": 14,
     "status": "ok",
     "timestamp": 1648640302226,
     "user": {
      "displayName": "Tobi",
      "userId": "06343529474612864282"
     },
     "user_tz": -60
    },
    "id": "TiV7S9TM0ZYN",
    "papermill": {
     "duration": 0.074139,
     "end_time": "2022-03-31T16:01:04.877907",
     "exception": false,
     "start_time": "2022-03-31T16:01:04.803768",
     "status": "completed"
    },
    "tags": []
   },
   "outputs": [],
   "source": [
    "model.compile(\n",
    "  loss='categorical_crossentropy',\n",
    "  optimizer='adam',\n",
    "  metrics=['accuracy']\n",
    ")"
   ]
  },
  {
   "cell_type": "code",
   "execution_count": 11,
   "id": "46bb61ce",
   "metadata": {
    "execution": {
     "iopub.execute_input": "2022-03-31T16:01:05.003134Z",
     "iopub.status.busy": "2022-03-31T16:01:05.002326Z",
     "iopub.status.idle": "2022-03-31T16:01:05.004665Z",
     "shell.execute_reply": "2022-03-31T16:01:05.004263Z",
     "shell.execute_reply.started": "2022-03-31T15:34:57.651915Z"
    },
    "executionInfo": {
     "elapsed": 14,
     "status": "ok",
     "timestamp": 1648640302227,
     "user": {
      "displayName": "Tobi",
      "userId": "06343529474612864282"
     },
     "user_tz": -60
    },
    "id": "mc25zsOc0Zb2",
    "papermill": {
     "duration": 0.067224,
     "end_time": "2022-03-31T16:01:05.004773",
     "exception": false,
     "start_time": "2022-03-31T16:01:04.937549",
     "status": "completed"
    },
    "tags": []
   },
   "outputs": [],
   "source": [
    "from tensorflow.keras.preprocessing.image import ImageDataGenerator\n",
    "\n",
    "train_datagen = ImageDataGenerator(rescale = 1./255,\n",
    "                                   shear_range = 0.2,\n",
    "                                   zoom_range = 0.2,\n",
    "                                   horizontal_flip = True)\n",
    "\n",
    "test_datagen = ImageDataGenerator(rescale = 1./255)"
   ]
  },
  {
   "cell_type": "code",
   "execution_count": 12,
   "id": "db061786",
   "metadata": {
    "execution": {
     "iopub.execute_input": "2022-03-31T16:01:05.128614Z",
     "iopub.status.busy": "2022-03-31T16:01:05.127893Z",
     "iopub.status.idle": "2022-03-31T16:01:05.554187Z",
     "shell.execute_reply": "2022-03-31T16:01:05.553225Z",
     "shell.execute_reply.started": "2022-03-31T15:34:57.661623Z"
    },
    "executionInfo": {
     "elapsed": 11040,
     "status": "ok",
     "timestamp": 1648640313253,
     "user": {
      "displayName": "Tobi",
      "userId": "06343529474612864282"
     },
     "user_tz": -60
    },
    "id": "13hol4fZ0Zgk",
    "outputId": "4087f293-dfe6-4eb6-d798-bae1f6b9a333",
    "papermill": {
     "duration": 0.489714,
     "end_time": "2022-03-31T16:01:05.554315",
     "exception": false,
     "start_time": "2022-03-31T16:01:05.064601",
     "status": "completed"
    },
    "tags": []
   },
   "outputs": [
    {
     "name": "stdout",
     "output_type": "stream",
     "text": [
      "Found 7556 images belonging to 4 classes.\n"
     ]
    }
   ],
   "source": [
    "training_set = train_datagen.flow_from_directory('./Hamoye_capstone_project_smote/Data/train',\n",
    "                                                 target_size = (224, 224),\n",
    "                                                 batch_size = 32,\n",
    "                                                 class_mode = 'categorical')"
   ]
  },
  {
   "cell_type": "code",
   "execution_count": 13,
   "id": "830f4c27",
   "metadata": {
    "execution": {
     "iopub.execute_input": "2022-03-31T16:01:05.681194Z",
     "iopub.status.busy": "2022-03-31T16:01:05.680629Z",
     "iopub.status.idle": "2022-03-31T16:01:05.992365Z",
     "shell.execute_reply": "2022-03-31T16:01:05.991792Z",
     "shell.execute_reply.started": "2022-03-31T15:34:58.204749Z"
    },
    "executionInfo": {
     "elapsed": 1380,
     "status": "ok",
     "timestamp": 1648640314611,
     "user": {
      "displayName": "Tobi",
      "userId": "06343529474612864282"
     },
     "user_tz": -60
    },
    "id": "rEWrDGrk0ZkF",
    "outputId": "c0ed5f80-606e-4739-d9b8-ce318618fa35",
    "papermill": {
     "duration": 0.376979,
     "end_time": "2022-03-31T16:01:05.992508",
     "exception": false,
     "start_time": "2022-03-31T16:01:05.615529",
     "status": "completed"
    },
    "tags": []
   },
   "outputs": [
    {
     "name": "stdout",
     "output_type": "stream",
     "text": [
      "Found 1084 images belonging to 4 classes.\n",
      "Found 2160 images belonging to 4 classes.\n"
     ]
    }
   ],
   "source": [
    "test_set = test_datagen.flow_from_directory('./Hamoye_capstone_project_smote/Data/test',\n",
    "                                            target_size = (224, 224),\n",
    "                                            batch_size = 32,\n",
    "                                            class_mode = 'categorical')\n",
    "val_data = test_datagen.flow_from_directory('./Hamoye_capstone_project_smote/Data/val',\n",
    "                                            target_size = (224, 224),\n",
    "                                            batch_size = 32,\n",
    "                                            class_mode = 'categorical')\n"
   ]
  },
  {
   "cell_type": "code",
   "execution_count": 14,
   "id": "149be19f",
   "metadata": {
    "execution": {
     "iopub.execute_input": "2022-03-31T16:01:06.123818Z",
     "iopub.status.busy": "2022-03-31T16:01:06.123296Z",
     "iopub.status.idle": "2022-03-31T16:21:18.414425Z",
     "shell.execute_reply": "2022-03-31T16:21:18.413445Z"
    },
    "executionInfo": {
     "elapsed": 4376407,
     "status": "ok",
     "timestamp": 1648644691011,
     "user": {
      "displayName": "Tobi",
      "userId": "06343529474612864282"
     },
     "user_tz": -60
    },
    "id": "lYBEXP8Z0ZpP",
    "outputId": "5cfe3ef5-a579-47f1-9fd7-756c5da641f6",
    "papermill": {
     "duration": 1212.359381,
     "end_time": "2022-03-31T16:21:18.414600",
     "exception": false,
     "start_time": "2022-03-31T16:01:06.055219",
     "status": "completed"
    },
    "tags": []
   },
   "outputs": [
    {
     "name": "stderr",
     "output_type": "stream",
     "text": [
      "2022-03-31 16:01:06.556724: I tensorflow/compiler/mlir/mlir_graph_optimization_pass.cc:185] None of the MLIR Optimization Passes are enabled (registered 2)\n"
     ]
    },
    {
     "name": "stdout",
     "output_type": "stream",
     "text": [
      "Epoch 1/10\n"
     ]
    },
    {
     "name": "stderr",
     "output_type": "stream",
     "text": [
      "2022-03-31 16:01:08.248438: I tensorflow/stream_executor/cuda/cuda_dnn.cc:369] Loaded cuDNN version 8005\n"
     ]
    },
    {
     "name": "stdout",
     "output_type": "stream",
     "text": [
      "237/237 [==============================] - 109s 419ms/step - loss: 0.3649 - accuracy: 0.8659 - val_loss: 0.2158 - val_accuracy: 0.9162\n",
      "Epoch 2/10\n",
      "237/237 [==============================] - 98s 414ms/step - loss: 0.1636 - accuracy: 0.9407 - val_loss: 0.1381 - val_accuracy: 0.9486\n",
      "Epoch 3/10\n",
      "237/237 [==============================] - 97s 411ms/step - loss: 0.1399 - accuracy: 0.9504 - val_loss: 0.1814 - val_accuracy: 0.9366\n",
      "Epoch 4/10\n",
      "237/237 [==============================] - 97s 409ms/step - loss: 0.1141 - accuracy: 0.9580 - val_loss: 0.1151 - val_accuracy: 0.9523\n",
      "Epoch 5/10\n",
      "237/237 [==============================] - 98s 412ms/step - loss: 0.0836 - accuracy: 0.9710 - val_loss: 0.1337 - val_accuracy: 0.9556\n",
      "Epoch 6/10\n",
      "237/237 [==============================] - 99s 415ms/step - loss: 0.0801 - accuracy: 0.9704 - val_loss: 0.1067 - val_accuracy: 0.9644\n",
      "Epoch 7/10\n",
      "237/237 [==============================] - 98s 410ms/step - loss: 0.0782 - accuracy: 0.9710 - val_loss: 0.1153 - val_accuracy: 0.9606\n",
      "Epoch 8/10\n",
      "237/237 [==============================] - 100s 420ms/step - loss: 0.0702 - accuracy: 0.9753 - val_loss: 0.0992 - val_accuracy: 0.9685\n",
      "Epoch 9/10\n",
      "237/237 [==============================] - 99s 418ms/step - loss: 0.0493 - accuracy: 0.9837 - val_loss: 0.0819 - val_accuracy: 0.9727\n",
      "Epoch 10/10\n",
      "237/237 [==============================] - 99s 418ms/step - loss: 0.0853 - accuracy: 0.9670 - val_loss: 0.0911 - val_accuracy: 0.9685\n"
     ]
    }
   ],
   "source": [
    "from keras.callbacks import ModelCheckpoint\n",
    "checkpoint = ModelCheckpoint(\"vgg16.hdf5\", monitor='loss', verbose=1,\n",
    "    save_best_only=True, mode='auto', period=1)\n",
    "\n",
    "r = model.fit(\n",
    "  training_set,\n",
    "  validation_data=val_data,\n",
    "  epochs=10,\n",
    "  steps_per_epoch=len(training_set),\n",
    "  validation_steps=len(val_data)\n",
    ")\n",
    "model.save_weights(\"vgg16.hdf5\")"
   ]
  },
  {
   "cell_type": "code",
   "execution_count": 15,
   "id": "9c420dd8",
   "metadata": {
    "execution": {
     "iopub.execute_input": "2022-03-31T16:21:20.186168Z",
     "iopub.status.busy": "2022-03-31T16:21:20.185346Z",
     "iopub.status.idle": "2022-03-31T16:21:26.795438Z",
     "shell.execute_reply": "2022-03-31T16:21:26.794747Z"
    },
    "executionInfo": {
     "elapsed": 12002,
     "status": "ok",
     "timestamp": 1648644703002,
     "user": {
      "displayName": "Tobi",
      "userId": "06343529474612864282"
     },
     "user_tz": -60
    },
    "id": "2B7uln2p0Zti",
    "outputId": "ec5b6419-c0ba-495d-ab84-107126bcf90a",
    "papermill": {
     "duration": 7.591428,
     "end_time": "2022-03-31T16:21:26.795603",
     "exception": false,
     "start_time": "2022-03-31T16:21:19.204175",
     "status": "completed"
    },
    "tags": []
   },
   "outputs": [
    {
     "name": "stdout",
     "output_type": "stream",
     "text": [
      "Accuracy: 96.218\n"
     ]
    }
   ],
   "source": [
    "_, acc = model.evaluate(test_set, steps=len(test_set), verbose=0)\n",
    "print('Accuracy: %.3f' % (acc * 100.0))"
   ]
  },
  {
   "cell_type": "code",
   "execution_count": 16,
   "id": "4b5b6f95",
   "metadata": {
    "execution": {
     "iopub.execute_input": "2022-03-31T16:21:28.395921Z",
     "iopub.status.busy": "2022-03-31T16:21:28.389144Z",
     "iopub.status.idle": "2022-03-31T16:21:28.596700Z",
     "shell.execute_reply": "2022-03-31T16:21:28.596268Z"
    },
    "executionInfo": {
     "elapsed": 22,
     "status": "ok",
     "timestamp": 1648644703004,
     "user": {
      "displayName": "Tobi",
      "userId": "06343529474612864282"
     },
     "user_tz": -60
    },
    "id": "4skLWOMN0Zxb",
    "outputId": "aef0db23-10a7-417c-f42d-03b5a914cd3f",
    "papermill": {
     "duration": 0.998329,
     "end_time": "2022-03-31T16:21:28.596820",
     "exception": false,
     "start_time": "2022-03-31T16:21:27.598491",
     "status": "completed"
    },
    "tags": []
   },
   "outputs": [
    {
     "data": {
      "image/png": "[encoded data removed]",
      "text/plain": [
       "<Figure size 432x288 with 1 Axes>"
      ]
     },
     "metadata": {
      "needs_background": "light"
     },
     "output_type": "display_data"
    }
   ],
   "source": [
    "import matplotlib.pyplot as plt\n",
    "plt.plot(r.history[\"accuracy\"])\n",
    "plt.plot(r.history['val_accuracy'])\n",
    "plt.plot(r.history['loss'])\n",
    "plt.plot(r.history['val_loss'])\n",
    "plt.title(\"model accuracy\")\n",
    "plt.ylabel(\"Accuracy\")\n",
    "plt.xlabel(\"Epoch\")\n",
    "plt.legend([\"Accuracy\",\"Validation Accuracy\",\"loss\",\"Validation Loss\"])\n",
    "plt.show()"
   ]
  },
  {
   "cell_type": "code",
   "execution_count": 17,
   "id": "6115abc4",
   "metadata": {
    "execution": {
     "iopub.execute_input": "2022-03-31T16:21:30.200972Z",
     "iopub.status.busy": "2022-03-31T16:21:30.200117Z",
     "iopub.status.idle": "2022-03-31T16:21:30.202248Z",
     "shell.execute_reply": "2022-03-31T16:21:30.202661Z"
    },
    "executionInfo": {
     "elapsed": 19,
     "status": "ok",
     "timestamp": 1648644703007,
     "user": {
      "displayName": "Tobi",
      "userId": "06343529474612864282"
     },
     "user_tz": -60
    },
    "id": "WNbXLukTz2vW",
    "papermill": {
     "duration": 0.820058,
     "end_time": "2022-03-31T16:21:30.202817",
     "exception": false,
     "start_time": "2022-03-31T16:21:29.382759",
     "status": "completed"
    },
    "tags": []
   },
   "outputs": [],
   "source": [
    "y_val = test_set.classes"
   ]
  },
  {
   "cell_type": "code",
   "execution_count": 18,
   "id": "e619c35d",
   "metadata": {
    "execution": {
     "iopub.execute_input": "2022-03-31T16:21:31.887502Z",
     "iopub.status.busy": "2022-03-31T16:21:31.886765Z",
     "iopub.status.idle": "2022-03-31T16:21:35.778338Z",
     "shell.execute_reply": "2022-03-31T16:21:35.779077Z"
    },
    "executionInfo": {
     "elapsed": 12348,
     "status": "ok",
     "timestamp": 1648644715339,
     "user": {
      "displayName": "Tobi",
      "userId": "06343529474612864282"
     },
     "user_tz": -60
    },
    "id": "DNCswh3_OTMk",
    "outputId": "a3c88144-aac3-4845-c7f9-4af6a8d40eb6",
    "papermill": {
     "duration": 4.713728,
     "end_time": "2022-03-31T16:21:35.779289",
     "exception": false,
     "start_time": "2022-03-31T16:21:31.065561",
     "status": "completed"
    },
    "tags": []
   },
   "outputs": [
    {
     "name": "stdout",
     "output_type": "stream",
     "text": [
      "              precision    recall  f1-score   support\n",
      "\n",
      "           0       0.29      0.28      0.29       271\n",
      "           1       0.28      0.27      0.28       271\n",
      "           2       0.28      0.30      0.29       271\n",
      "           3       0.29      0.29      0.29       271\n",
      "\n",
      "    accuracy                           0.29      1084\n",
      "   macro avg       0.29      0.29      0.29      1084\n",
      "weighted avg       0.29      0.29      0.29      1084\n",
      "\n"
     ]
    }
   ],
   "source": [
    "from sklearn.metrics import classification_report,confusion_matrix\n",
    "predictions = model.predict(test_set, verbose=0)\n",
    "\n",
    "\n",
    "print(classification_report( y_val, predictions.argmax(axis=1)))"
   ]
  },
  {
   "cell_type": "code",
   "execution_count": null,
   "id": "e8dab2e3",
   "metadata": {
    "executionInfo": {
     "elapsed": 3156,
     "status": "ok",
     "timestamp": 1648644718476,
     "user": {
      "displayName": "Tobi",
      "userId": "06343529474612864282"
     },
     "user_tz": -60
    },
    "id": "Y2hAfOXROTnt",
    "outputId": "b950c54b-8046-4eb7-e74e-4a2ce6b1e9bc",
    "papermill": {
     "duration": 0.791566,
     "end_time": "2022-03-31T16:21:37.358395",
     "exception": false,
     "start_time": "2022-03-31T16:21:36.566829",
     "status": "completed"
    },
    "tags": []
   },
   "outputs": [],
   "source": []
  },
  {
   "cell_type": "code",
   "execution_count": null,
   "id": "acb56c68",
   "metadata": {
    "executionInfo": {
     "elapsed": 34,
     "status": "ok",
     "timestamp": 1648644718477,
     "user": {
      "displayName": "Tobi",
      "userId": "06343529474612864282"
     },
     "user_tz": -60
    },
    "id": "UArDKm2LOTrR",
    "papermill": {
     "duration": 0.806559,
     "end_time": "2022-03-31T16:21:38.958907",
     "exception": false,
     "start_time": "2022-03-31T16:21:38.152348",
     "status": "completed"
    },
    "tags": []
   },
   "outputs": [],
   "source": []
  },
  {
   "cell_type": "markdown",
   "id": "d5edc0dc",
   "metadata": {
    "id": "8WrXe0ieyjqD",
    "papermill": {
     "duration": 0.791421,
     "end_time": "2022-03-31T16:21:40.538102",
     "exception": false,
     "start_time": "2022-03-31T16:21:39.746681",
     "status": "completed"
    },
    "tags": []
   },
   "source": []
  }
 ],
 "metadata": {
  "kernelspec": {
   "display_name": "Python 3",
   "language": "python",
   "name": "python3"
  },
  "language_info": {
   "codemirror_mode": {
    "name": "ipython",
    "version": 3
   },
   "file_extension": ".py",
   "mimetype": "text/x-python",
   "name": "python",
   "nbconvert_exporter": "python",
   "pygments_lexer": "ipython3",
   "version": "3.7.12"
  },
  "papermill": {
   "default_parameters": {},
   "duration": 1276.201032,
   "end_time": "2022-03-31T16:21:44.494774",
   "environment_variables": {},
   "exception": null,
   "input_path": "__notebook__.ipynb",
   "output_path": "__notebook__.ipynb",
   "parameters": {},
   "start_time": "2022-03-31T16:00:28.293742",
   "version": "2.3.3"
  }
 },
 "nbformat": 4,
 "nbformat_minor": 5
}
