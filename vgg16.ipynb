{
 "cells": [
  {
   "cell_type": "code",
   "execution_count": 1,
   "metadata": {
    "executionInfo": {
     "elapsed": 4217,
     "status": "ok",
     "timestamp": 1648640298026,
     "user": {
      "displayName": "Tobi",
      "userId": "06343529474612864282"
     },
     "user_tz": -60
    },
    "id": "l-PTM6beynBk"
   },
   "outputs": [],
   "source": [
    "from tensorflow.keras.layers import Input, Lambda, Dense, Flatten\n",
    "from tensorflow.keras.models import Model\n",
    "from tensorflow.keras.applications.vgg16 import VGG16\n",
    "from tensorflow.keras.applications.vgg19 import VGG19\n",
    "from tensorflow.keras.preprocessing import image\n",
    "from tensorflow.keras.preprocessing.image import ImageDataGenerator,load_img\n",
    "from tensorflow.keras.models import Sequential\n",
    "import numpy as np\n",
    "from glob import glob"
   ]
  },
  {
   "cell_type": "code",
   "execution_count": 2,
   "metadata": {
    "executionInfo": {
     "elapsed": 10,
     "status": "ok",
     "timestamp": 1648640298028,
     "user": {
      "displayName": "Tobi",
      "userId": "06343529474612864282"
     },
     "user_tz": -60
    },
    "id": "Zug_ylZxyjQV"
   },
   "outputs": [],
   "source": [
    "IMAGE_SIZE = [224, 224]\n",
    "\n",
    "train_path = '/content/drive/MyDrive/Colab Notebooks/Hamoye_capstone_project_smote/Data/train'\n",
    "valid_path = '/content/drive/MyDrive/Colab Notebooks/Hamoye_capstone_project_smote/Data/test'"
   ]
  },
  {
   "cell_type": "code",
   "execution_count": 3,
   "metadata": {
    "colab": {
     "base_uri": "https://localhost:8080/"
    },
    "executionInfo": {
     "elapsed": 2837,
     "status": "ok",
     "timestamp": 1648640300857,
     "user": {
      "displayName": "Tobi",
      "userId": "06343529474612864282"
     },
     "user_tz": -60
    },
    "id": "yfJ4kiJNz2Y3",
    "outputId": "928102e0-282d-46e7-b3b7-1e6d9af23377"
   },
   "outputs": [
    {
     "name": "stdout",
     "output_type": "stream",
     "text": [
      "Downloading data from https://storage.googleapis.com/tensorflow/keras-applications/vgg16/vgg16_weights_tf_dim_ordering_tf_kernels_notop.h5\n",
      "58892288/58889256 [==============================] - 0s 0us/step\n",
      "58900480/58889256 [==============================] - 0s 0us/step\n"
     ]
    }
   ],
   "source": [
    "vgg16 = VGG16(input_shape=IMAGE_SIZE + [3], weights='imagenet', include_top=False)"
   ]
  },
  {
   "cell_type": "code",
   "execution_count": 4,
   "metadata": {
    "executionInfo": {
     "elapsed": 11,
     "status": "ok",
     "timestamp": 1648640300858,
     "user": {
      "displayName": "Tobi",
      "userId": "06343529474612864282"
     },
     "user_tz": -60
    },
    "id": "oHDObVEvz2mt"
   },
   "outputs": [],
   "source": [
    "for layer in vgg16.layers:\n",
    "    layer.trainable = False"
   ]
  },
  {
   "cell_type": "code",
   "execution_count": 5,
   "metadata": {
    "executionInfo": {
     "elapsed": 1374,
     "status": "ok",
     "timestamp": 1648640302223,
     "user": {
      "displayName": "Tobi",
      "userId": "06343529474612864282"
     },
     "user_tz": -60
    },
    "id": "dgkZ6B6Fz2rF"
   },
   "outputs": [],
   "source": [
    "folders = glob('/content/drive/MyDrive/Colab Notebooks/Hamoye_capstone_project_smote/Data/train/*')"
   ]
  },
  {
   "cell_type": "code",
   "execution_count": 6,
   "metadata": {
    "colab": {
     "base_uri": "https://localhost:8080/"
    },
    "executionInfo": {
     "elapsed": 18,
     "status": "ok",
     "timestamp": 1648640302224,
     "user": {
      "displayName": "Tobi",
      "userId": "06343529474612864282"
     },
     "user_tz": -60
    },
    "id": "pjpVdHIj0ZPQ",
    "outputId": "55191efc-b9b7-4792-cbfe-7a10c5021565"
   },
   "outputs": [
    {
     "data": {
      "text/plain": [
       "['/content/drive/MyDrive/Colab Notebooks/Hamoye_capstone_project_smote/Data/train/Buffalo',\n",
       " '/content/drive/MyDrive/Colab Notebooks/Hamoye_capstone_project_smote/Data/train/Elephant',\n",
       " '/content/drive/MyDrive/Colab Notebooks/Hamoye_capstone_project_smote/Data/train/Zebra',\n",
       " '/content/drive/MyDrive/Colab Notebooks/Hamoye_capstone_project_smote/Data/train/Rhino']"
      ]
     },
     "execution_count": 6,
     "metadata": {},
     "output_type": "execute_result"
    }
   ],
   "source": [
    "folders"
   ]
  },
  {
   "cell_type": "code",
   "execution_count": 7,
   "metadata": {
    "executionInfo": {
     "elapsed": 14,
     "status": "ok",
     "timestamp": 1648640302225,
     "user": {
      "displayName": "Tobi",
      "userId": "06343529474612864282"
     },
     "user_tz": -60
    },
    "id": "BEnQ0RFQ0ZTv"
   },
   "outputs": [],
   "source": [
    "x = Flatten()(vgg16.output)"
   ]
  },
  {
   "cell_type": "code",
   "execution_count": 8,
   "metadata": {
    "executionInfo": {
     "elapsed": 14,
     "status": "ok",
     "timestamp": 1648640302226,
     "user": {
      "displayName": "Tobi",
      "userId": "06343529474612864282"
     },
     "user_tz": -60
    },
    "id": "CKcIZQqG0ZKn"
   },
   "outputs": [],
   "source": [
    "prediction = Dense(len(folders), activation='softmax')(x)\n",
    "\n",
    "# create a model object\n",
    "model = Model(inputs=vgg16.input, outputs=prediction)"
   ]
  },
  {
   "cell_type": "code",
   "execution_count": 9,
   "metadata": {
    "executionInfo": {
     "elapsed": 14,
     "status": "ok",
     "timestamp": 1648640302226,
     "user": {
      "displayName": "Tobi",
      "userId": "06343529474612864282"
     },
     "user_tz": -60
    },
    "id": "TiV7S9TM0ZYN"
   },
   "outputs": [],
   "source": [
    "model.compile(\n",
    "  loss='categorical_crossentropy',\n",
    "  optimizer='adam',\n",
    "  metrics=['accuracy']\n",
    ")"
   ]
  },
  {
   "cell_type": "code",
   "execution_count": 10,
   "metadata": {
    "executionInfo": {
     "elapsed": 14,
     "status": "ok",
     "timestamp": 1648640302227,
     "user": {
      "displayName": "Tobi",
      "userId": "06343529474612864282"
     },
     "user_tz": -60
    },
    "id": "mc25zsOc0Zb2"
   },
   "outputs": [],
   "source": [
    "from tensorflow.keras.preprocessing.image import ImageDataGenerator\n",
    "\n",
    "train_datagen = ImageDataGenerator(rescale = 1./255,\n",
    "                                   shear_range = 0.2,\n",
    "                                   zoom_range = 0.2,\n",
    "                                   horizontal_flip = True)\n",
    "\n",
    "test_datagen = ImageDataGenerator(rescale = 1./255)"
   ]
  },
  {
   "cell_type": "code",
   "execution_count": 11,
   "metadata": {
    "colab": {
     "base_uri": "https://localhost:8080/"
    },
    "executionInfo": {
     "elapsed": 11040,
     "status": "ok",
     "timestamp": 1648640313253,
     "user": {
      "displayName": "Tobi",
      "userId": "06343529474612864282"
     },
     "user_tz": -60
    },
    "id": "13hol4fZ0Zgk",
    "outputId": "4087f293-dfe6-4eb6-d798-bae1f6b9a333"
   },
   "outputs": [
    {
     "name": "stdout",
     "output_type": "stream",
     "text": [
      "Found 7556 images belonging to 4 classes.\n"
     ]
    }
   ],
   "source": [
    "training_set = train_datagen.flow_from_directory('/content/drive/MyDrive/Colab Notebooks/Hamoye_capstone_project_smote/Data/train',\n",
    "                                                 target_size = (224, 224),\n",
    "                                                 batch_size = 32,\n",
    "                                                 class_mode = 'categorical')"
   ]
  },
  {
   "cell_type": "code",
   "execution_count": 12,
   "metadata": {
    "colab": {
     "base_uri": "https://localhost:8080/"
    },
    "executionInfo": {
     "elapsed": 1380,
     "status": "ok",
     "timestamp": 1648640314611,
     "user": {
      "displayName": "Tobi",
      "userId": "06343529474612864282"
     },
     "user_tz": -60
    },
    "id": "rEWrDGrk0ZkF",
    "outputId": "c0ed5f80-606e-4739-d9b8-ce318618fa35"
   },
   "outputs": [
    {
     "name": "stdout",
     "output_type": "stream",
     "text": [
      "Found 1084 images belonging to 4 classes.\n"
     ]
    }
   ],
   "source": [
    "test_set = test_datagen.flow_from_directory('/content/drive/MyDrive/Colab Notebooks/Hamoye_capstone_project_smote/Data/test',\n",
    "                                            target_size = (224, 224),\n",
    "                                            batch_size = 32,\n",
    "                                            class_mode = 'categorical')"
   ]
  },
  {
   "cell_type": "code",
   "execution_count": 13,
   "metadata": {
    "colab": {
     "base_uri": "https://localhost:8080/"
    },
    "executionInfo": {
     "elapsed": 4376407,
     "status": "ok",
     "timestamp": 1648644691011,
     "user": {
      "displayName": "Tobi",
      "userId": "06343529474612864282"
     },
     "user_tz": -60
    },
    "id": "lYBEXP8Z0ZpP",
    "outputId": "5cfe3ef5-a579-47f1-9fd7-756c5da641f6"
   },
   "outputs": [
    {
     "name": "stdout",
     "output_type": "stream",
     "text": [
      "Epoch 1/20\n",
      "237/237 [==============================] - 1348s 6s/step - loss: 0.3685 - accuracy: 0.8612 - val_loss: 0.1820 - val_accuracy: 0.9400\n",
      "Epoch 2/20\n",
      "237/237 [==============================] - 157s 661ms/step - loss: 0.1711 - accuracy: 0.9377 - val_loss: 0.2140 - val_accuracy: 0.9197\n",
      "Epoch 3/20\n",
      "237/237 [==============================] - 159s 671ms/step - loss: 0.1289 - accuracy: 0.9549 - val_loss: 0.1115 - val_accuracy: 0.9640\n",
      "Epoch 4/20\n",
      "237/237 [==============================] - 159s 671ms/step - loss: 0.1031 - accuracy: 0.9652 - val_loss: 0.0890 - val_accuracy: 0.9723\n",
      "Epoch 5/20\n",
      "237/237 [==============================] - 159s 670ms/step - loss: 0.1112 - accuracy: 0.9592 - val_loss: 0.1213 - val_accuracy: 0.9557\n",
      "Epoch 6/20\n",
      "237/237 [==============================] - 157s 662ms/step - loss: 0.0903 - accuracy: 0.9663 - val_loss: 0.2371 - val_accuracy: 0.9197\n",
      "Epoch 7/20\n",
      "237/237 [==============================] - 157s 660ms/step - loss: 0.0749 - accuracy: 0.9708 - val_loss: 0.1134 - val_accuracy: 0.9649\n",
      "Epoch 8/20\n",
      "237/237 [==============================] - 158s 664ms/step - loss: 0.0572 - accuracy: 0.9791 - val_loss: 0.1030 - val_accuracy: 0.9677\n",
      "Epoch 9/20\n",
      "237/237 [==============================] - 157s 660ms/step - loss: 0.0799 - accuracy: 0.9711 - val_loss: 0.1100 - val_accuracy: 0.9668\n",
      "Epoch 10/20\n",
      "237/237 [==============================] - 157s 662ms/step - loss: 0.0569 - accuracy: 0.9778 - val_loss: 0.0985 - val_accuracy: 0.9742\n",
      "Epoch 11/20\n",
      "237/237 [==============================] - 157s 662ms/step - loss: 0.0577 - accuracy: 0.9801 - val_loss: 0.0960 - val_accuracy: 0.9723\n",
      "Epoch 12/20\n",
      "237/237 [==============================] - 156s 658ms/step - loss: 0.0702 - accuracy: 0.9755 - val_loss: 0.1321 - val_accuracy: 0.9640\n",
      "Epoch 13/20\n",
      "237/237 [==============================] - 156s 658ms/step - loss: 0.0378 - accuracy: 0.9870 - val_loss: 0.1440 - val_accuracy: 0.9576\n",
      "Epoch 14/20\n",
      "237/237 [==============================] - 154s 650ms/step - loss: 0.0407 - accuracy: 0.9864 - val_loss: 0.1067 - val_accuracy: 0.9705\n",
      "Epoch 15/20\n",
      "237/237 [==============================] - 155s 652ms/step - loss: 0.0430 - accuracy: 0.9853 - val_loss: 0.1077 - val_accuracy: 0.9659\n",
      "Epoch 16/20\n",
      "237/237 [==============================] - 156s 658ms/step - loss: 0.0510 - accuracy: 0.9812 - val_loss: 0.1127 - val_accuracy: 0.9668\n",
      "Epoch 17/20\n",
      "237/237 [==============================] - 156s 659ms/step - loss: 0.0466 - accuracy: 0.9833 - val_loss: 0.3299 - val_accuracy: 0.9299\n",
      "Epoch 18/20\n",
      "237/237 [==============================] - 154s 650ms/step - loss: 0.0433 - accuracy: 0.9837 - val_loss: 0.2203 - val_accuracy: 0.9428\n",
      "Epoch 19/20\n",
      "237/237 [==============================] - 155s 652ms/step - loss: 0.0557 - accuracy: 0.9795 - val_loss: 0.1163 - val_accuracy: 0.9696\n",
      "Epoch 20/20\n",
      "237/237 [==============================] - 154s 649ms/step - loss: 0.0529 - accuracy: 0.9813 - val_loss: 0.2100 - val_accuracy: 0.9474\n"
     ]
    }
   ],
   "source": [
    "r = model.fit(\n",
    "  training_set,\n",
    "  validation_data=test_set,\n",
    "  epochs=20,\n",
    "  steps_per_epoch=len(training_set),\n",
    "  validation_steps=len(test_set)\n",
    ")"
   ]
  },
  {
   "cell_type": "code",
   "execution_count": 14,
   "metadata": {
    "colab": {
     "base_uri": "https://localhost:8080/"
    },
    "executionInfo": {
     "elapsed": 12002,
     "status": "ok",
     "timestamp": 1648644703002,
     "user": {
      "displayName": "Tobi",
      "userId": "06343529474612864282"
     },
     "user_tz": -60
    },
    "id": "2B7uln2p0Zti",
    "outputId": "ec5b6419-c0ba-495d-ab84-107126bcf90a"
   },
   "outputs": [
    {
     "name": "stdout",
     "output_type": "stream",
     "text": [
      "Accuracy: 94.742\n"
     ]
    }
   ],
   "source": [
    "_, acc = model.evaluate(test_set, steps=len(test_set), verbose=0)\n",
    "print('Accuracy: %.3f' % (acc * 100.0))"
   ]
  },
  {
   "cell_type": "code",
   "execution_count": 15,
   "metadata": {
    "colab": {
     "base_uri": "https://localhost:8080/",
     "height": 295
    },
    "executionInfo": {
     "elapsed": 22,
     "status": "ok",
     "timestamp": 1648644703004,
     "user": {
      "displayName": "Tobi",
      "userId": "06343529474612864282"
     },
     "user_tz": -60
    },
    "id": "4skLWOMN0Zxb",
    "outputId": "aef0db23-10a7-417c-f42d-03b5a914cd3f"
   },
   "outputs": [
    {
     "data": {
      "image/png": "[encoded data removed]",
      "text/plain": [
       "<Figure size 432x288 with 1 Axes>"
      ]
     },
     "metadata": {
      "needs_background": "light"
     },
     "output_type": "display_data"
    }
   ],
   "source": [
    "import matplotlib.pyplot as plt\n",
    "plt.plot(r.history[\"accuracy\"])\n",
    "plt.plot(r.history['val_accuracy'])\n",
    "plt.plot(r.history['loss'])\n",
    "plt.plot(r.history['val_loss'])\n",
    "plt.title(\"model accuracy\")\n",
    "plt.ylabel(\"Accuracy\")\n",
    "plt.xlabel(\"Epoch\")\n",
    "plt.legend([\"Accuracy\",\"Validation Accuracy\",\"loss\",\"Validation Loss\"])\n",
    "plt.show()"
   ]
  },
  {
   "cell_type": "code",
   "execution_count": 16,
   "metadata": {
    "executionInfo": {
     "elapsed": 19,
     "status": "ok",
     "timestamp": 1648644703007,
     "user": {
      "displayName": "Tobi",
      "userId": "06343529474612864282"
     },
     "user_tz": -60
    },
    "id": "WNbXLukTz2vW"
   },
   "outputs": [],
   "source": [
    "y_val = test_set.classes"
   ]
  },
  {
   "cell_type": "code",
   "execution_count": 17,
   "metadata": {
    "colab": {
     "base_uri": "https://localhost:8080/"
    },
    "executionInfo": {
     "elapsed": 12348,
     "status": "ok",
     "timestamp": 1648644715339,
     "user": {
      "displayName": "Tobi",
      "userId": "06343529474612864282"
     },
     "user_tz": -60
    },
    "id": "DNCswh3_OTMk",
    "outputId": "a3c88144-aac3-4845-c7f9-4af6a8d40eb6"
   },
   "outputs": [
    {
     "name": "stdout",
     "output_type": "stream",
     "text": [
      "              precision    recall  f1-score   support\n",
      "\n",
      "           0       0.21      0.20      0.20       271\n",
      "           1       0.27      0.24      0.25       271\n",
      "           2       0.21      0.24      0.22       271\n",
      "           3       0.25      0.25      0.25       271\n",
      "\n",
      "    accuracy                           0.23      1084\n",
      "   macro avg       0.23      0.23      0.23      1084\n",
      "weighted avg       0.23      0.23      0.23      1084\n",
      "\n"
     ]
    }
   ],
   "source": [
    "from sklearn.metrics import classification_report,confusion_matrix\n",
    "predictions = model.predict(test_set, verbose=0)\n",
    "\n",
    "\n",
    "print(classification_report( y_val, predictions.argmax(axis=1)))"
   ]
  },
  {
   "cell_type": "code",
   "execution_count": 18,
   "metadata": {
    "colab": {
     "base_uri": "https://localhost:8080/"
    },
    "executionInfo": {
     "elapsed": 3156,
     "status": "ok",
     "timestamp": 1648644718476,
     "user": {
      "displayName": "Tobi",
      "userId": "06343529474612864282"
     },
     "user_tz": -60
    },
    "id": "Y2hAfOXROTnt",
    "outputId": "b950c54b-8046-4eb7-e74e-4a2ce6b1e9bc"
   },
   "outputs": [
    {
     "name": "stdout",
     "output_type": "stream",
     "text": [
      "INFO:tensorflow:Assets written to: ram://de8fcf28-980a-4a3b-9217-98cf0ff41f5f/assets\n"
     ]
    }
   ],
   "source": [
    "import pickle\n",
    "pickle.dump(model, open(\"vgg16.pkl\", \"wb\"))"
   ]
  },
  {
   "cell_type": "code",
   "execution_count": 18,
   "metadata": {
    "executionInfo": {
     "elapsed": 34,
     "status": "ok",
     "timestamp": 1648644718477,
     "user": {
      "displayName": "Tobi",
      "userId": "06343529474612864282"
     },
     "user_tz": -60
    },
    "id": "UArDKm2LOTrR"
   },
   "outputs": [],
   "source": []
  },
  {
   "cell_type": "markdown",
   "metadata": {
    "id": "8WrXe0ieyjqD"
   },
   "source": []
  }
 ],
 "metadata": {
  "accelerator": "GPU",
  "colab": {
   "authorship_tag": "ABX9TyOkhP1kWQSas20WO4p8qDmK",
   "collapsed_sections": [],
   "mount_file_id": "1yDzSnfBB1x33GlDO4tGD8G4sKdTfZrYg",
   "name": "vgg16",
   "provenance": []
  },
  "kernelspec": {
   "display_name": "Python 3 (ipykernel)",
   "language": "python",
   "name": "python3"
  },
  "language_info": {
   "codemirror_mode": {
    "name": "ipython",
    "version": 3
   },
   "file_extension": ".py",
   "mimetype": "text/x-python",
   "name": "python",
   "nbconvert_exporter": "python",
   "pygments_lexer": "ipython3",
   "version": "3.9.7"
  }
 },
 "nbformat": 4,
 "nbformat_minor": 1
}
